{
 "cells": [
  {
   "cell_type": "markdown",
   "id": "58d1e998",
   "metadata": {},
   "source": [
    "# nb_runtype: Test Suite\n",
    "\n",
    "This notebook provides a thorough, CI-friendly test suite for the `nb_runtype` library. It demonstrates and validates all features, including:\n",
    "\n",
    "- Standard Python type annotation behavior (no runtime enforcement)\n",
    "- Automatic runtime validation with `nb_runtype`\n",
    "- Configuration options and their effects\n",
    "- Per-function exclusion and disabling\n",
    "- Validation of default values, arbitrary types, and coercion\n",
    "- Async function support\n",
    "- Robust assertions for automated testing\n"
   ]
  },
  {
   "cell_type": "code",
   "execution_count": 1,
   "id": "6de45d3e",
   "metadata": {},
   "outputs": [],
   "source": [
    "# Import the library and set up environment\n",
    "import os\n",
    "import sys\n",
    "\n",
    "# Add repo root to sys.path for CI and local runs\n",
    "repo_root = os.path.abspath(os.path.join(os.getcwd(), \"..\"))\n",
    "if repo_root not in sys.path:\n",
    "    sys.path.insert(0, repo_root)"
   ]
  },
  {
   "cell_type": "markdown",
   "id": "cfce4e22",
   "metadata": {},
   "source": [
    "## Standard Python Type Annotations: No Runtime Enforcement\n",
    "\n",
    "This section demonstrates that Python's type annotations are not enforced at runtime by default. Functions can be called with arguments or return values of any type, regardless of their annotations.\n"
   ]
  },
  {
   "cell_type": "code",
   "execution_count": 2,
   "id": "6805153b",
   "metadata": {},
   "outputs": [
    {
     "name": "stdout",
     "output_type": "stream",
     "text": [
      "py_mul(2, 3) result: 6\n",
      "py_mul('a', 2) result: aa\n"
     ]
    }
   ],
   "source": [
    "# Standard Python type annotations: no runtime enforcement\n",
    "def py_mul(x: int, y: int) -> int:\n",
    "    return x * y\n",
    "\n",
    "\n",
    "# No error for wrong return type (should return int, but returns str if misused)\n",
    "result = py_mul(2, 3)\n",
    "print(\"py_mul(2, 3) result:\", result)\n",
    "assert result == 6, f\"Expected 6, got {result}\"\n",
    "\n",
    "# No error for wrong argument type (should be int, but accepts str)\n",
    "result2 = py_mul(\"a\", 2)\n",
    "print(\"py_mul('a', 2) result:\", result2)\n",
    "assert result2 == \"aa\", f\"Expected 'aa', got {result2}\""
   ]
  },
  {
   "cell_type": "markdown",
   "id": "53d97987",
   "metadata": {},
   "source": [
    "## Enabling nb_runtype: Automatic Runtime Validation\n",
    "\n",
    "Now we enable `nb_runtype` to automatically validate all new function definitions at runtime.\n"
   ]
  },
  {
   "cell_type": "code",
   "execution_count": 3,
   "id": "e479852c",
   "metadata": {},
   "outputs": [],
   "source": [
    "from nb_runtype import (\n",
    "    RuntypeError,\n",
    "    disable_runtype,\n",
    "    enable_runtype,\n",
    "    get_runtype_config,\n",
    "    is_runtype_enabled,\n",
    "    no_runtype,\n",
    ")"
   ]
  },
  {
   "cell_type": "markdown",
   "id": "14dcfa6e",
   "metadata": {},
   "source": [
    "## Functions Defined Before and After Enabling nb_runtype\n",
    "\n",
    "Functions defined before calling `enable_runtype()` (or in the same cell) are not validated at runtime, even if called after enabling. Only functions defined in subsequent cells are validated.\n"
   ]
  },
  {
   "cell_type": "code",
   "execution_count": 4,
   "id": "05b76475",
   "metadata": {},
   "outputs": [
    {
     "name": "stdout",
     "output_type": "stream",
     "text": [
      "runtype enabled with config={'strict': True, 'validate_return': True, 'validate_default': True, 'arbitrary_types_allowed': True}\n",
      "pre_enable(\"a\") does not raise any error (expected behavior)\n",
      "post_enable(\"a\") does not raise any error (expected behavior)\n"
     ]
    }
   ],
   "source": [
    "# Function defined before enabling nb_runtype: not validated\n",
    "def pre_enable(x: int) -> int:\n",
    "    return str(x)\n",
    "\n",
    "\n",
    "# Enable nb_runtype\n",
    "enable_runtype()\n",
    "\n",
    "\n",
    "# Function defined after enabling: will be validated\n",
    "def post_enable(x: int) -> int:\n",
    "    return str(x)\n",
    "\n",
    "\n",
    "# No error for function defined before enabling, even with wrong return type\n",
    "assert pre_enable(2) == \"2\"\n",
    "try:\n",
    "    pre_enable(\"a\")\n",
    "except Exception as e:\n",
    "    print(\"pre_enable('a') does not raise RuntypeError, but:\", type(e), e)\n",
    "else:\n",
    "    print('pre_enable(\"a\") does not raise any error (expected behavior)')\n",
    "\n",
    "# No error for function defined in the same cell, even with wrong return type\n",
    "assert post_enable(2) == \"2\"\n",
    "try:\n",
    "    post_enable(\"a\")\n",
    "except Exception as e:\n",
    "    print(\"post_enable('a') does not raise RuntypeError, but:\", type(e), e)\n",
    "else:\n",
    "    print('post_enable(\"a\") does not raise any error (expected behavior)')"
   ]
  },
  {
   "cell_type": "code",
   "execution_count": 5,
   "id": "0047dec7",
   "metadata": {},
   "outputs": [
    {
     "name": "stdout",
     "output_type": "stream",
     "text": [
      "mul(2, 3) result: 6\n",
      "RuntypeError for wrong argument type as expected: Runtime type validation failed:\n",
      "  Parameter '0': Input should be a valid integer. Value: 'a'\n",
      "RuntypeError for wrong return type as expected: Runtime type validation failed:\n",
      "  Parameter 'return': Input should be a valid integer. Value: '6'\n"
     ]
    }
   ],
   "source": [
    "# Function defined after enabling: validated by nb_runtype\n",
    "def mul(x: int, y: int) -> int:\n",
    "    return x * y\n",
    "\n",
    "\n",
    "# Correct types: should work\n",
    "result = mul(2, 3)\n",
    "print(\"mul(2, 3) result:\", result)\n",
    "assert result == 6, f\"Expected 6, got {result}\"\n",
    "\n",
    "# Wrong argument type: should raise RuntypeError\n",
    "try:\n",
    "    mul(\"a\", 2)\n",
    "except RuntypeError as e:\n",
    "    print(\"RuntypeError for wrong argument type as expected:\", e)\n",
    "else:\n",
    "    raise AssertionError(\"Expected RuntypeError for wrong argument type, but none was raised.\")\n",
    "\n",
    "\n",
    "# Wrong return type: should raise RuntypeError\n",
    "def mul_str(x: int, y: int) -> int:\n",
    "    return str(x * y)\n",
    "\n",
    "\n",
    "try:\n",
    "    mul_str(2, 3)\n",
    "except RuntypeError as e:\n",
    "    print(\"RuntypeError for wrong return type as expected:\", e)\n",
    "else:\n",
    "    raise AssertionError(\"Expected RuntypeError for wrong return type, but none was raised.\")"
   ]
  },
  {
   "cell_type": "markdown",
   "id": "2bb49a2b",
   "metadata": {},
   "source": [
    "## Per-Function Exclusion: `@no_runtype` Decorator\n",
    "\n",
    "Functions decorated with `@no_runtype` are excluded from runtime validation, even after enabling nb_runtype.\n"
   ]
  },
  {
   "cell_type": "code",
   "execution_count": 6,
   "id": "ba2f960d",
   "metadata": {},
   "outputs": [
    {
     "name": "stdout",
     "output_type": "stream",
     "text": [
      "no_type_check_mult('a', 2) result: aa\n",
      "no_type_check_mult(2, 3) result: 222\n"
     ]
    }
   ],
   "source": [
    "# Function excluded from validation using @no_runtype\n",
    "@no_runtype\n",
    "def no_type_check_mult(x: int, y: int) -> int:\n",
    "    return str(x) * y\n",
    "\n",
    "\n",
    "# Should not raise RuntypeError, even with wrong types or return type\n",
    "result = no_type_check_mult(\"a\", 2)\n",
    "print(\"no_type_check_mult('a', 2) result:\", result)\n",
    "assert result == \"aa\", f\"Expected 'aa', got {result}\"\n",
    "result2 = no_type_check_mult(2, 3)\n",
    "print(\"no_type_check_mult(2, 3) result:\", result2)\n",
    "assert result2 == \"222\", f\"Expected '222', got {result2}\""
   ]
  },
  {
   "cell_type": "markdown",
   "id": "5db7d2a4",
   "metadata": {},
   "source": [
    "## Retrieving the Current nb_runtype Configuration\n",
    "\n",
    "You can retrieve the current configuration to verify the active validation settings.\n"
   ]
  },
  {
   "cell_type": "code",
   "execution_count": 7,
   "id": "f325b5f7",
   "metadata": {},
   "outputs": [
    {
     "name": "stdout",
     "output_type": "stream",
     "text": [
      "Current config: {'strict': True, 'validate_return': True, 'validate_default': True, 'arbitrary_types_allowed': True}\n"
     ]
    }
   ],
   "source": [
    "# Retrieve and check the current nb_runtype configuration\n",
    "config = get_runtype_config()\n",
    "print(\"Current config:\", config)\n",
    "assert config[\"strict\"] is True\n",
    "assert config[\"validate_return\"] is True\n",
    "assert config[\"validate_default\"] is True\n",
    "assert config[\"arbitrary_types_allowed\"] is True"
   ]
  },
  {
   "cell_type": "markdown",
   "id": "1fc3896a",
   "metadata": {},
   "source": [
    "## Checking if nb_runtype is Enabled: `is_runtype_enabled`\n",
    "\n",
    "The function `is_runtype_enabled()` returns True if runtime type validation is currently active, and False otherwise.\n"
   ]
  },
  {
   "cell_type": "code",
   "execution_count": 8,
   "id": "762091b2",
   "metadata": {},
   "outputs": [
    {
     "name": "stdout",
     "output_type": "stream",
     "text": [
      "runtype disabled.\n",
      "is_runtype_enabled() after disable: False\n",
      "runtype enabled with config={'strict': True, 'validate_return': True, 'validate_default': True, 'arbitrary_types_allowed': True}\n",
      "is_runtype_enabled() after enable: True\n"
     ]
    }
   ],
   "source": [
    "# Test is_runtype_enabled in both enabled and disabled states\n",
    "disable_runtype()\n",
    "assert is_runtype_enabled() is False, \"Expected is_runtype_enabled() to be False after disabling runtype\"\n",
    "print(\"is_runtype_enabled() after disable:\", is_runtype_enabled())\n",
    "\n",
    "enable_runtype()\n",
    "assert is_runtype_enabled() is True, \"Expected is_runtype_enabled() to be True after enabling runtype\"\n",
    "print(\"is_runtype_enabled() after enable:\", is_runtype_enabled())"
   ]
  },
  {
   "cell_type": "markdown",
   "id": "149a25bc",
   "metadata": {},
   "source": [
    "## Disabling nb_runtype: Return to Standard Python Behavior\n",
    "\n",
    "After disabling nb_runtype, new functions are not validated and behave like standard Python functions.\n"
   ]
  },
  {
   "cell_type": "code",
   "execution_count": 9,
   "id": "71b9949a",
   "metadata": {},
   "outputs": [
    {
     "name": "stdout",
     "output_type": "stream",
     "text": [
      "runtype disabled.\n"
     ]
    }
   ],
   "source": [
    "# Disable runtype\n",
    "disable_runtype()"
   ]
  },
  {
   "cell_type": "code",
   "execution_count": 10,
   "id": "b0251743",
   "metadata": {},
   "outputs": [
    {
     "name": "stdout",
     "output_type": "stream",
     "text": [
      "py_mul_post_disable(2, 3) result: 222\n",
      "py_mul_post_disable('a', 2) result: aa\n"
     ]
    }
   ],
   "source": [
    "# Function defined after disabling nb_runtype: not validated\n",
    "def py_mul_post_disable(x: int, y: int) -> int:\n",
    "    return str(x) * int(y)\n",
    "\n",
    "\n",
    "# No error for wrong return type\n",
    "result = py_mul_post_disable(2, 3)\n",
    "print(\"py_mul_post_disable(2, 3) result:\", result)\n",
    "assert result == \"222\", f\"Expected '222', got {result}\"\n",
    "\n",
    "# No error for wrong argument type\n",
    "result2 = py_mul_post_disable(\"a\", 2)\n",
    "print(\"py_mul_post_disable('a', 2) result:\", result2)\n",
    "assert result2 == \"aa\", f\"Expected 'aa', got {result2}\""
   ]
  },
  {
   "cell_type": "markdown",
   "id": "aeeb20ba",
   "metadata": {},
   "source": [
    "## Functions Without Type Annotations: No Validation\n",
    "\n",
    "Functions without type annotations are never validated by nb_runtype, even if validation is enabled.\n"
   ]
  },
  {
   "cell_type": "code",
   "execution_count": 11,
   "id": "df6d0b31",
   "metadata": {},
   "outputs": [
    {
     "name": "stdout",
     "output_type": "stream",
     "text": [
      "runtype enabled with config={'strict': True, 'validate_return': True, 'validate_default': True, 'arbitrary_types_allowed': True}\n"
     ]
    }
   ],
   "source": [
    "# Enable runtype\n",
    "enable_runtype()"
   ]
  },
  {
   "cell_type": "code",
   "execution_count": 12,
   "id": "f0ab4f12",
   "metadata": {},
   "outputs": [
    {
     "name": "stdout",
     "output_type": "stream",
     "text": [
      "no_annot('a', 2) result: aa\n",
      "no_annot(2, 3) result: 222\n"
     ]
    }
   ],
   "source": [
    "# Function without type annotations: not validated\n",
    "def no_annot(x, y):\n",
    "    return str(x) * int(y)\n",
    "\n",
    "\n",
    "# No error even with 'wrong' types\n",
    "result = no_annot(\"a\", 2)\n",
    "print(\"no_annot('a', 2) result:\", result)\n",
    "assert result == \"aa\", f\"Expected 'aa', got {result}\"\n",
    "result2 = no_annot(2, 3)\n",
    "print(\"no_annot(2, 3) result:\", result2)\n",
    "assert result2 == \"222\", f\"Expected '222', got {result2}\""
   ]
  },
  {
   "cell_type": "markdown",
   "id": "f09e1b1f",
   "metadata": {},
   "source": [
    "## Type Annotations with `Any`: No Restriction\n",
    "\n",
    "If a function argument or return value is annotated as `Any`, nb_runtype allows any value for that parameter or return, without raising errors.\n"
   ]
  },
  {
   "cell_type": "code",
   "execution_count": 13,
   "id": "0cbeb79d",
   "metadata": {},
   "outputs": [
    {
     "name": "stdout",
     "output_type": "stream",
     "text": [
      "any_args(1, \"a\") result: (1, 'a')\n",
      "any_args([1,2], {\"k\":3}) result: ([1, 2], {'k': 3})\n",
      "any_args(None, 3.14) result: (None, 3.14)\n"
     ]
    }
   ],
   "source": [
    "from typing import Any\n",
    "\n",
    "\n",
    "# Function with Any annotations: accepts any type for arguments and return value\n",
    "def any_args(x: Any, y: Any) -> Any:\n",
    "    return x, y\n",
    "\n",
    "\n",
    "# No error for any type of argument or return value\n",
    "result = any_args(1, \"a\")\n",
    "print('any_args(1, \"a\") result:', result)\n",
    "assert result == (1, \"a\")\n",
    "result2 = any_args([1, 2], {\"k\": 3})\n",
    "print('any_args([1,2], {\"k\":3}) result:', result2)\n",
    "assert result2 == ([1, 2], {\"k\": 3})\n",
    "result3 = any_args(None, 3.14)\n",
    "print(\"any_args(None, 3.14) result:\", result3)\n",
    "assert result3 == (None, 3.14)\n",
    "\n",
    "\n",
    "# Return value can also be of any type\n",
    "def any_return(x: int) -> Any:\n",
    "    if x == 0:\n",
    "        return \"zero\"\n",
    "    return [x]\n",
    "\n",
    "\n",
    "assert any_return(0) == \"zero\"\n",
    "assert any_return(5) == [5]"
   ]
  },
  {
   "cell_type": "markdown",
   "id": "1b5e4457",
   "metadata": {},
   "source": [
    "## Error Handling & Debugging\n",
    "\n",
    "When type validation fails, nb-runtype raises a `RuntypeError` with detailed information about what went wrong. Understanding these errors is crucial for effective debugging.\n"
   ]
  },
  {
   "cell_type": "code",
   "execution_count": 14,
   "id": "ca5f7a41",
   "metadata": {},
   "outputs": [
    {
     "name": "stdout",
     "output_type": "stream",
     "text": [
      "runtype already enabled.\n"
     ]
    }
   ],
   "source": [
    "enable_runtype()"
   ]
  },
  {
   "cell_type": "code",
   "execution_count": 15,
   "id": "5342c741",
   "metadata": {},
   "outputs": [
    {
     "name": "stdout",
     "output_type": "stream",
     "text": [
      "divide_numbers(10.0, 2.0) result: 5.0\n",
      "Argument error caught: Runtime type validation failed:\n",
      "  Parameter '0': Input should be a valid number. Value: '10'\n",
      "Return error caught: Runtime type validation failed:\n",
      "  Parameter 'return': Input should be a valid number. Value: '5.0'\n",
      "Non-type error (not caught): ZeroDivisionError: float division by zero\n"
     ]
    }
   ],
   "source": [
    "def divide_numbers(x: float, y: float) -> float:\n",
    "    \"\"\"Function that divides two numbers.\"\"\"\n",
    "    return x / y\n",
    "\n",
    "\n",
    "# Valid call\n",
    "result = divide_numbers(10.0, 2.0)\n",
    "print(f\"divide_numbers(10.0, 2.0) result:\", result)\n",
    "assert result == 5.0\n",
    "\n",
    "# Type error in arguments\n",
    "try:\n",
    "    divide_numbers(\"10\", 2.0)  # String instead of float\n",
    "except RuntypeError as e:\n",
    "    print(f\"Argument error caught: {e}\")\n",
    "else:\n",
    "    raise AssertionError(\"Expected RuntypeError for non-float argument, but none was raised.\")\n",
    "\n",
    "\n",
    "# Type error in return value\n",
    "def bad_divide(x: float, y: float) -> float:\n",
    "    return str(x / y)  # Returns string instead of float\n",
    "\n",
    "\n",
    "try:\n",
    "    bad_divide(10.0, 2.0)\n",
    "except RuntypeError as e:\n",
    "    print(f\"Return error caught: {e}\")\n",
    "else:\n",
    "    raise AssertionError(\"Expected RuntypeError for non-float return value, but none was raised.\")\n",
    "\n",
    "# Non-type errors are not caught\n",
    "try:\n",
    "    divide_numbers(10.0, 0.0)  # This will raise ZeroDivisionError\n",
    "except ZeroDivisionError as e:\n",
    "    print(f\"Non-type error (not caught): {type(e).__name__}: {e}\")\n",
    "except RuntypeError as e:\n",
    "    raise AssertionError(f\"Unexpected RuntypeError caught: {e}\")"
   ]
  },
  {
   "cell_type": "markdown",
   "id": "7d7a2a1b",
   "metadata": {},
   "source": [
    "## Configuration Errors: Non-Boolean Parameters to `enable_runtype`\n",
    "\n",
    "Passing non-boolean values to `enable_runtype` parameters should raise a `TypeError`.\n"
   ]
  },
  {
   "cell_type": "code",
   "execution_count": 16,
   "id": "c97868a1",
   "metadata": {},
   "outputs": [
    {
     "name": "stdout",
     "output_type": "stream",
     "text": [
      "runtype disabled.\n"
     ]
    }
   ],
   "source": [
    "# Disable runtype\n",
    "disable_runtype()"
   ]
  },
  {
   "cell_type": "code",
   "execution_count": 17,
   "id": "23f3de9f",
   "metadata": {},
   "outputs": [
    {
     "name": "stdout",
     "output_type": "stream",
     "text": [
      "TypeError for non-boolean 'strict': All parameters must be boolean values\n",
      "TypeError for non-boolean 'validate_return': All parameters must be boolean values\n"
     ]
    }
   ],
   "source": [
    "# Passing non-boolean values to enable_runtype should raise TypeError\n",
    "try:\n",
    "    enable_runtype(strict=\"yes\")\n",
    "except TypeError as e:\n",
    "    print(\"TypeError for non-boolean 'strict':\", e)\n",
    "else:\n",
    "    raise AssertionError(\"Expected TypeError for non-bool strict, but none was raised.\")\n",
    "\n",
    "try:\n",
    "    enable_runtype(validate_return=1)\n",
    "except TypeError as e:\n",
    "    print(\"TypeError for non-boolean 'validate_return':\", e)\n",
    "else:\n",
    "    raise AssertionError(\"Expected TypeError for non-bool validate_return, but none was raised.\")"
   ]
  },
  {
   "cell_type": "markdown",
   "id": "9acd0483",
   "metadata": {},
   "source": [
    "## Async Functions: Argument and Return Validation\n",
    "\n",
    "Async functions are validated just like regular functions. Both arguments and return values are checked according to the current configuration.\n"
   ]
  },
  {
   "cell_type": "code",
   "execution_count": 18,
   "id": "587ed4a1",
   "metadata": {},
   "outputs": [
    {
     "name": "stdout",
     "output_type": "stream",
     "text": [
      "runtype is not enabled.\n",
      "runtype enabled with config={'strict': True, 'validate_return': True, 'validate_default': True, 'arbitrary_types_allowed': True}\n"
     ]
    }
   ],
   "source": [
    "disable_runtype()\n",
    "enable_runtype()"
   ]
  },
  {
   "cell_type": "code",
   "execution_count": 19,
   "id": "cdb7ec74",
   "metadata": {},
   "outputs": [
    {
     "name": "stdout",
     "output_type": "stream",
     "text": [
      "async_add(2, 3) result: 5\n",
      "Caught RuntypeError for async function as expected: Runtime type validation failed:\n",
      "  Parameter '0': Input should be a valid integer. Value: 'a'\n"
     ]
    }
   ],
   "source": [
    "from typing import Any\n",
    "\n",
    "\n",
    "# Async function to test argument and return validation\n",
    "async def async_add(x: int, y: int) -> Any:\n",
    "    return x + y\n",
    "\n",
    "\n",
    "# Correct types: should work\n",
    "result = await async_add(2, 3)\n",
    "print(\"async_add(2, 3) result:\", result)\n",
    "assert result == 5\n",
    "\n",
    "# Wrong argument type: should raise RuntypeError\n",
    "try:\n",
    "    await async_add(\"a\", 2)\n",
    "except RuntypeError as e:\n",
    "    print(\"Caught RuntypeError for async function as expected:\", e)\n",
    "else:\n",
    "    raise AssertionError(\"Expected RuntypeError for wrong argument type in async function, but none was raised.\")"
   ]
  },
  {
   "cell_type": "markdown",
   "id": "141ef9a4",
   "metadata": {},
   "source": [
    "## Functions with Default Values: Validation of Defaults\n",
    "\n",
    "Default values must be valid according to their type annotations when the function is called and validation is enabled.\n",
    "This means:\n",
    "\n",
    "- If `validate_default=True` (default): Invalid defaults cause errors at call time\n",
    "- If `validate_default=False`: Invalid defaults are allowed and ignored\n"
   ]
  },
  {
   "cell_type": "code",
   "execution_count": 20,
   "id": "813ec219",
   "metadata": {},
   "outputs": [
    {
     "name": "stdout",
     "output_type": "stream",
     "text": [
      "runtype disabled.\n",
      "runtype enabled with config={'strict': True, 'validate_return': True, 'validate_default': True, 'arbitrary_types_allowed': True}\n"
     ]
    }
   ],
   "source": [
    "disable_runtype()\n",
    "enable_runtype(validate_default=True)"
   ]
  },
  {
   "cell_type": "code",
   "execution_count": 21,
   "id": "4525fe7a",
   "metadata": {},
   "outputs": [
    {
     "name": "stdout",
     "output_type": "stream",
     "text": [
      "RuntypeError for invalid default value: Runtime type validation failed:\n",
      "  Parameter 'x': Input should be a valid integer. Value: 'a'\n"
     ]
    }
   ],
   "source": [
    "# validate_default=True (default): error if default is invalid\n",
    "def f_default(x: int = \"a\"):\n",
    "    return x\n",
    "\n",
    "\n",
    "try:\n",
    "    f_default()\n",
    "except RuntypeError as e:\n",
    "    print(\"RuntypeError for invalid default value:\", e)\n",
    "else:\n",
    "    raise AssertionError(\"Expected RuntypeError for invalid default, but none was raised.\")"
   ]
  },
  {
   "cell_type": "markdown",
   "id": "92d66ee7",
   "metadata": {},
   "source": [
    "### Disabling Default Value Validation\n",
    "\n",
    "If `validate_default=False`, invalid default values are not checked and are allowed.\n"
   ]
  },
  {
   "cell_type": "code",
   "execution_count": 22,
   "id": "30fa1190",
   "metadata": {},
   "outputs": [
    {
     "name": "stdout",
     "output_type": "stream",
     "text": [
      "runtype disabled.\n",
      "runtype enabled with config={'strict': True, 'validate_return': True, 'validate_default': False, 'arbitrary_types_allowed': True}\n"
     ]
    }
   ],
   "source": [
    "disable_runtype()\n",
    "enable_runtype(validate_default=False)"
   ]
  },
  {
   "cell_type": "code",
   "execution_count": 23,
   "id": "8cb34ff4",
   "metadata": {},
   "outputs": [
    {
     "name": "stdout",
     "output_type": "stream",
     "text": [
      "f_default2() result: a\n"
     ]
    }
   ],
   "source": [
    "# validate_default=False: no error for invalid default value\n",
    "def f_default2(x: int = \"a\"):\n",
    "    return x\n",
    "\n",
    "\n",
    "print(\"f_default2() result:\", f_default2())\n",
    "assert f_default2() == \"a\""
   ]
  },
  {
   "cell_type": "markdown",
   "id": "f554e0d0",
   "metadata": {},
   "source": [
    "## Custom Types: The `arbitrary_types_allowed` Parameter\n",
    "\n",
    "By default, nb_runtype accepts custom classes and types you've defined. However, you can restrict this behavior.\n",
    "\n",
    "- `arbitrary_types_allowed=True` (default): Accepts any type, including custom classes\n",
    "- `arbitrary_types_allowed=False`: Only accepts built-in types and types Pydantic knows about\n"
   ]
  },
  {
   "cell_type": "code",
   "execution_count": 24,
   "id": "f47e2066",
   "metadata": {},
   "outputs": [
    {
     "name": "stdout",
     "output_type": "stream",
     "text": [
      "runtype disabled.\n",
      "runtype enabled with config={'strict': True, 'validate_return': True, 'validate_default': True, 'arbitrary_types_allowed': True}\n"
     ]
    }
   ],
   "source": [
    "disable_runtype()\n",
    "enable_runtype()"
   ]
  },
  {
   "cell_type": "code",
   "execution_count": 25,
   "id": "03083125",
   "metadata": {},
   "outputs": [
    {
     "name": "stdout",
     "output_type": "stream",
     "text": [
      "f_custom(obj) passed\n"
     ]
    }
   ],
   "source": [
    "# arbitrary_types_allowed=True (default): accepts custom types\n",
    "class MyCustom:\n",
    "    pass\n",
    "\n",
    "\n",
    "def f_custom(x: MyCustom) -> MyCustom:\n",
    "    return x\n",
    "\n",
    "\n",
    "obj = MyCustom()\n",
    "assert f_custom(obj) is obj\n",
    "print(\"f_custom(obj) passed\")"
   ]
  },
  {
   "cell_type": "code",
   "execution_count": 26,
   "id": "10b9e4ad",
   "metadata": {},
   "outputs": [
    {
     "name": "stdout",
     "output_type": "stream",
     "text": [
      "runtype disabled.\n",
      "runtype enabled with config={'strict': True, 'validate_return': True, 'validate_default': True, 'arbitrary_types_allowed': False}\n"
     ]
    }
   ],
   "source": [
    "disable_runtype()\n",
    "enable_runtype(arbitrary_types_allowed=False)"
   ]
  },
  {
   "cell_type": "code",
   "execution_count": 27,
   "id": "da9bd376",
   "metadata": {},
   "outputs": [
    {
     "name": "stdout",
     "output_type": "stream",
     "text": [
      "RuntypeError for custom type with arbitrary_types_allowed=False: Runtime type validation failed:\n",
      "  Failed to generate Pydantic schema. Value: None\n"
     ]
    }
   ],
   "source": [
    "# arbitrary_types_allowed=False: error for custom types\n",
    "def f_custom2(x: MyCustom) -> MyCustom:\n",
    "    return x\n",
    "\n",
    "\n",
    "try:\n",
    "    f_custom2(obj)\n",
    "except Exception as e:\n",
    "    print(\"RuntypeError for custom type with arbitrary_types_allowed=False:\", e)\n",
    "else:\n",
    "    raise AssertionError(\"Expected RuntypeError for custom type, but none was raised.\")"
   ]
  },
  {
   "cell_type": "markdown",
   "id": "b3dcb9d2",
   "metadata": {},
   "source": [
    "## Strict Mode vs Lenient Mode: Type Coercion Control\n",
    "\n",
    "The `strict` parameter controls whether Pydantic attempts automatic type conversion.\n",
    "\n",
    "**Strict Mode (`strict=True`, default)**:\n",
    "\n",
    "- **No coercion**: Values must exactly match their annotated types\n",
    "- **Safer**: Prevents unexpected type conversions\n",
    "- **Faster**: Less processing overhead\n",
    "\n",
    "**Lenient Mode (`strict=False`)**:\n",
    "\n",
    "- **Allows coercion**: Attempts to convert values (e.g., `\"42\"` → `42`, `3.14` → `3`)\n",
    "- **More flexible**: Accepts \"reasonable\" conversions\n",
    "- **Slower**: Additional processing for type conversion\n"
   ]
  },
  {
   "cell_type": "code",
   "execution_count": 28,
   "id": "af695492",
   "metadata": {},
   "outputs": [
    {
     "name": "stdout",
     "output_type": "stream",
     "text": [
      "runtype disabled.\n",
      "runtype enabled with config={'strict': False, 'validate_return': True, 'validate_default': True, 'arbitrary_types_allowed': True}\n"
     ]
    }
   ],
   "source": [
    "disable_runtype()\n",
    "enable_runtype(strict=False)"
   ]
  },
  {
   "cell_type": "code",
   "execution_count": 29,
   "id": "803bd478",
   "metadata": {},
   "outputs": [
    {
     "name": "stdout",
     "output_type": "stream",
     "text": [
      "f_coerce(2.0) passed\n",
      "f_coerce('3') passed\n",
      "RuntypeError for failed coercion: Runtime type validation failed:\n",
      "  Parameter '0': Input should be a valid integer, unable to parse string as an integer. Value: 'a'\n"
     ]
    }
   ],
   "source": [
    "# strict=False: type coercion is allowed\n",
    "def f_coerce(x: int) -> int:\n",
    "    return x\n",
    "\n",
    "\n",
    "# float accepted as int\n",
    "assert f_coerce(2.0) == 2\n",
    "print(\"f_coerce(2.0) passed\")\n",
    "# numeric string accepted as int\n",
    "assert f_coerce(\"3\") == 3\n",
    "print(\"f_coerce('3') passed\")\n",
    "# non-numeric string: error\n",
    "try:\n",
    "    f_coerce(\"a\")\n",
    "except RuntypeError as e:\n",
    "    print(\"RuntypeError for failed coercion:\", e)\n",
    "else:\n",
    "    raise AssertionError(\"Expected RuntypeError for non-coercible value, but none was raised.\")"
   ]
  },
  {
   "cell_type": "markdown",
   "id": "3b950f51",
   "metadata": {},
   "source": [
    "## Multiple Decoration: No Double Wrapping\n",
    "\n",
    "Redefining a function should not apply validation twice. Validation remains active, but the function is not double-wrapped.\n"
   ]
  },
  {
   "cell_type": "code",
   "execution_count": 30,
   "id": "341fd588",
   "metadata": {},
   "outputs": [
    {
     "name": "stdout",
     "output_type": "stream",
     "text": [
      "runtype disabled.\n",
      "runtype enabled with config={'strict': True, 'validate_return': True, 'validate_default': True, 'arbitrary_types_allowed': True}\n"
     ]
    }
   ],
   "source": [
    "# Setup for multiple decoration test\n",
    "disable_runtype()\n",
    "enable_runtype()"
   ]
  },
  {
   "cell_type": "code",
   "execution_count": 31,
   "id": "b1e14725",
   "metadata": {},
   "outputs": [
    {
     "name": "stdout",
     "output_type": "stream",
     "text": [
      "RuntypeError for multiple decoration: Runtime type validation failed:\n",
      "  Parameter '0': Input should be a valid integer. Value: 'a'\n"
     ]
    }
   ],
   "source": [
    "# Redefining a validated function: should not double-wrap, validation remains active\n",
    "def f(x: int) -> int:\n",
    "    return x\n",
    "\n",
    "\n",
    "# Redefine the function: should not error, validation remains active\n",
    "f = f\n",
    "assert f(2) == 2\n",
    "try:\n",
    "    f(\"a\")\n",
    "except RuntypeError as e:\n",
    "    print(\"RuntypeError for multiple decoration:\", e)\n",
    "else:\n",
    "    raise AssertionError(\"Expected RuntypeError for wrong type, but none was raised.\")"
   ]
  }
 ],
 "metadata": {
  "kernelspec": {
   "display_name": ".venv (3.11.12)",
   "language": "python",
   "name": "python3"
  },
  "language_info": {
   "codemirror_mode": {
    "name": "ipython",
    "version": 3
   },
   "file_extension": ".py",
   "mimetype": "text/x-python",
   "name": "python",
   "nbconvert_exporter": "python",
   "pygments_lexer": "ipython3",
   "version": "3.11.12"
  }
 },
 "nbformat": 4,
 "nbformat_minor": 5
}
